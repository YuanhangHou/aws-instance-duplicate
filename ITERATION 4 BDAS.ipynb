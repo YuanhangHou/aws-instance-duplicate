{
 "cells": [
  {
   "cell_type": "code",
   "execution_count": 1,
   "id": "f395b159",
   "metadata": {},
   "outputs": [],
   "source": [
    "#This file documents the codes used for the final iteration of the housing project"
   ]
  },
  {
   "cell_type": "code",
   "execution_count": 2,
   "id": "e24c7dae",
   "metadata": {},
   "outputs": [
    {
     "name": "stderr",
     "output_type": "stream",
     "text": [
      "WARNING: An illegal reflective access operation has occurred\n",
      "WARNING: Illegal reflective access by org.apache.spark.unsafe.Platform (file:/home/ubuntu/spark-3.2.1-bin-hadoop2.7/jars/spark-unsafe_2.12-3.2.1.jar) to constructor java.nio.DirectByteBuffer(long,int)\n",
      "WARNING: Please consider reporting this to the maintainers of org.apache.spark.unsafe.Platform\n",
      "WARNING: Use --illegal-access=warn to enable warnings of further illegal reflective access operations\n",
      "WARNING: All illegal access operations will be denied in a future release\n",
      "Using Spark's default log4j profile: org/apache/spark/log4j-defaults.properties\n",
      "Setting default log level to \"WARN\".\n",
      "To adjust logging level use sc.setLogLevel(newLevel). For SparkR, use setLogLevel(newLevel).\n",
      "24/05/18 02:54:49 WARN NativeCodeLoader: Unable to load native-hadoop library for your platform... using builtin-java classes where applicable\n"
     ]
    }
   ],
   "source": [
    "# Must be included at the beginning of each new notebook. Remember to change the app name.\n",
    "import findspark\n",
    "findspark.init('/home/ubuntu/spark-3.2.1-bin-hadoop2.7')\n",
    "import pyspark\n",
    "from pyspark.sql import SparkSession\n",
    "spark = SparkSession.builder.appName('iteration4').getOrCreate()"
   ]
  },
  {
   "cell_type": "markdown",
   "id": "7188aa52",
   "metadata": {},
   "source": [
    "# 2. Data Preparation"
   ]
  },
  {
   "cell_type": "markdown",
   "id": "a8a17d38",
   "metadata": {},
   "source": [
    "## 2.1 Data Collection"
   ]
  },
  {
   "cell_type": "code",
   "execution_count": 3,
   "id": "5f4df8ec",
   "metadata": {},
   "outputs": [
    {
     "name": "stderr",
     "output_type": "stream",
     "text": [
      "                                                                                \r"
     ]
    }
   ],
   "source": [
    "#load the data file\n",
    "df = spark.read.option(\"header\", \"true\").option(\"inferSchema\", \"true\").csv('Iteration 4 Datasets/Beijing Housing.csv')\n",
    "df_missing = spark.read.option(\"header\", \"true\").option(\"inferSchema\", \"true\").csv('Iteration 4 Datasets/Missing Data.csv')"
   ]
  },
  {
   "cell_type": "code",
   "execution_count": 4,
   "id": "efee12a7",
   "metadata": {},
   "outputs": [
    {
     "name": "stdout",
     "output_type": "stream",
     "text": [
      "+--------------------+------------+----------+---------+-------------+----------+----+---------+----------+-----+------+----------+-----------+-------+--------+-----+------------+----------------+-------------------+-----------------+-----------+--------+-----------------+------+--------+----------------+\n",
      "|                 url|          id|       Lng|      Lat|          Cid| tradeTime| DOM|followers|totalPrice|price|square|livingRoom|drawingRoom|kitchen|bathRoom|floor|buildingType|constructionTime|renovationCondition|buildingStructure|ladderRatio|elevator|fiveYearsProperty|subway|district|communityAverage|\n",
      "+--------------------+------------+----------+---------+-------------+----------+----+---------+----------+-----+------+----------+-----------+-------+--------+-----+------------+----------------+-------------------+-----------------+-----------+--------+-----------------+------+--------+----------------+\n",
      "|https://bj.lianji...|101084782030|116.475489| 40.01952|1111027376244|2016-08-09|1464|      106|     415.0|31680| 131.0|         2|          1|      1|       1|�� 26|           1|            2005|                  3|                6|      0.217|     1.0|              0.0|   1.0|       7|           56021|\n",
      "|https://bj.lianji...|101086012217|116.453917|39.881534|1111027381879|2016-07-28| 903|      126|     575.0|43436|132.38|         2|          2|      1|       2|�� 22|           1|            2004|                  4|                6|      0.667|     1.0|              1.0|   0.0|       7|           71539|\n",
      "|https://bj.lianji...|101086041636|116.561978|39.877145|1111040862969|2016-12-11|1271|       48|    1030.0|52021| 198.0|         3|          2|      1|       3| �� 4|           4|            2005|                  3|                6|        0.5|     1.0|              0.0|   0.0|       7|           48160|\n",
      "|https://bj.lianji...|101086406841| 116.43801|40.076114|1111043185817|2016-09-30| 965|      138|     297.5|22202| 134.0|         3|          1|      1|       1|�� 21|           1|            2008|                  1|                6|      0.273|     1.0|              0.0|   0.0|       6|           51238|\n",
      "|https://bj.lianji...|101086920653|116.428392|39.886229|1111027381174|2016-08-28| 927|      286|     392.0|48396|  81.0|         2|          1|      1|       1| �� 6|           4|            1960|                  2|                2|      0.333|     0.0|              1.0|   1.0|       1|           62588|\n",
      "|https://bj.lianji...|101087277815| 116.46628|39.991363|1111027377512|2016-07-22| 861|       57|     275.6|52000|  53.0|         1|          0|      1|       1| �� 8|           4|            2005|                  3|                6|      0.333|     1.0|              1.0|   0.0|       7|           67738|\n",
      "|https://bj.lianji...|101087292623|116.482586|39.891991|1111027380683|2016-07-14| 851|      167|     275.0|37672|  73.0|         2|          1|      1|       1| �� 6|           4|            1997|                  4|                2|        0.5|     0.0|              0.0|   0.0|       7|           50112|\n",
      "|https://bj.lianji...|101087303800|116.453917|39.881534|1111027381879|2016-09-07| 904|      138|     800.0|49521|161.55|         3|          2|      1|       2|�� 22|           1|            2004|                  4|                6|      0.667|     1.0|              1.0|   0.0|       7|           71539|\n",
      "|https://bj.lianji...|101087463212|116.555729|40.162058|1111027379605|2016-09-04| 873|      218|     134.0|27917|  48.0|         1|          0|      1|       1|�� 10|           3|            2009|                  1|                2|      0.333|     0.0|              0.0|   0.0|      13|           44235|\n",
      "|https://bj.lianji...|101087508625|116.453086|39.898397|1111027374519|2016-09-05| 865|      134|     380.0|55883|  68.0|         1|          0|      0|       0|�� 23|           1|            2009|                  4|                6|      0.308|     1.0|              1.0|   1.0|       1|           78590|\n",
      "|https://bj.lianji...|101087641313|116.529489|39.890906|1111027382455|2016-08-24| 827|       95|     840.0|31579| 266.0|         4|          2|      1|       3| �� 4|         nan|            2006|                  3|                6|        0.2|     0.0|              0.0|   0.0|       7|           57260|\n",
      "|https://bj.lianji...|101087793667|116.555729|40.162058|1111027379605|2016-08-03| 773|       74|     126.0|26250|  48.0|         1|          1|      1|       1|�� 11|           3|            2009|                  3|                2|      0.333|     0.0|              1.0|   0.0|      13|           44235|\n",
      "|https://bj.lianji...|101087805216| 116.47617|39.844869|1111027374856|2016-08-25| 793|       50|     948.0|39832| 238.0|         4|          2|      1|       4| �� 3|         nan|            2004|                  4|                6|      0.091|     0.0|              1.0|   0.0|       7|           46867|\n",
      "|https://bj.lianji...|101087812155|116.399018|39.978141|1111027382251|2016-08-17| 784|       65|     896.0|91710|  97.7|         3|          1|      1|       1| �� 6|           4|            1991|                  3|                2|      0.333|     0.0|              1.0|   1.0|      10|          123002|\n",
      "|https://bj.lianji...|101087919464|116.296286|39.870107|1111027382679|2016-06-17| 706|       90|     285.0|35568| 80.13|         1|          1|      1|       1|�� 24|           1|            2001|                  4|                6|      0.222|     1.0|              0.0|   1.0|       2|           53588|\n",
      "|https://bj.lianji...|101087921597| 116.32922|39.892447|1111027379961|2016-09-20| 800|       76|     360.0|60607|  59.4|         2|          1|      1|       1|�� 26|           1|            1990|                  3|                6|       0.25|     1.0|              0.0|   1.0|       2|           59395|\n",
      "|https://bj.lianji...|101087926378|116.405549|39.975629|1111027379201|2016-07-22| 739|       39|     700.0|39115|178.96|         4|          1|      1|       1|�� 23|           1|            1997|                  3|                6|      0.333|     1.0|              1.0|   1.0|       7|           53730|\n",
      "|https://bj.lianji...|101087957433|116.284755| 39.93453|1111027376911|2016-09-17| 790|        6|     212.0|32981| 64.28|         1|          0|      1|       1|�� 19|           1|            2009|                  3|                6|      0.111|     1.0|              0.0|   1.0|       8|           70141|\n",
      "|https://bj.lianji...|101088008763|116.603852|39.893276|1111027375170|2016-06-20| 691|      130|     336.0|30189| 111.3|         2|          1|      1|       1| �� 6|           4|            2008|                  4|                6|      0.167|     1.0|              1.0|   0.0|       7|           48859|\n",
      "|https://bj.lianji...|101088050742|116.284755| 39.93453|1111027376911|2016-08-23| 747|       41|     174.6|33577|  52.0|         1|          0|      1|       1|�� 19|           1|            2009|                  3|                6|      0.111|     1.0|              0.0|   1.0|       8|           70141|\n",
      "+--------------------+------------+----------+---------+-------------+----------+----+---------+----------+-----+------+----------+-----------+-------+--------+-----+------------+----------------+-------------------+-----------------+-----------+--------+-----------------+------+--------+----------------+\n",
      "only showing top 20 rows\n",
      "\n",
      "+------------+--------------------+\n",
      "|          ID|Floor Height English|\n",
      "+------------+--------------------+\n",
      "|101086041636|              Middle|\n",
      "|101086920653|              Middle|\n",
      "|101087277815|              Middle|\n",
      "|101087508625|              Middle|\n",
      "|101087641313|              Middle|\n",
      "|101087957433|              Middle|\n",
      "|101088008763|              Middle|\n",
      "|101088050742|              Middle|\n",
      "|101088238072|              Middle|\n",
      "|101088350722|              Middle|\n",
      "|101088389994|              Middle|\n",
      "|101088532737|              Middle|\n",
      "|101088567700|              Middle|\n",
      "|101088639199|              Middle|\n",
      "|101088684632|              Middle|\n",
      "|101088790489|              Middle|\n",
      "|101088861935|              Middle|\n",
      "|101088952846|              Middle|\n",
      "|101088957270|              Middle|\n",
      "|101089027493|              Middle|\n",
      "+------------+--------------------+\n",
      "only showing top 20 rows\n",
      "\n"
     ]
    }
   ],
   "source": [
    "#Verify data\n",
    "spark.conf.set(\"spark.sql.debug.maxToStringFields\", 100)\n",
    "df.show()\n",
    "df_missing.show()"
   ]
  },
  {
   "cell_type": "code",
   "execution_count": 5,
   "id": "86e89fb7",
   "metadata": {},
   "outputs": [
    {
     "name": "stderr",
     "output_type": "stream",
     "text": [
      "                                                                                \r"
     ]
    },
    {
     "name": "stdout",
     "output_type": "stream",
     "text": [
      "                                                      url            id  \\\n",
      "0       https://bj.lianjia.com/chengjiao/101084782030....  101084782030   \n",
      "1       https://bj.lianjia.com/chengjiao/101086012217....  101086012217   \n",
      "2       https://bj.lianjia.com/chengjiao/101086041636....  101086041636   \n",
      "3       https://bj.lianjia.com/chengjiao/101086406841....  101086406841   \n",
      "4       https://bj.lianjia.com/chengjiao/101086920653....  101086920653   \n",
      "...                                                   ...           ...   \n",
      "318846  https://bj.lianjia.com/chengjiao/BJYZ92311192....  BJYZ92311192   \n",
      "318847  https://bj.lianjia.com/chengjiao/BJYZ92320171....  BJYZ92320171   \n",
      "318848  https://bj.lianjia.com/chengjiao/BJYZ92324217....  BJYZ92324217   \n",
      "318849  https://bj.lianjia.com/chengjiao/BJYZ92333313....  BJYZ92333313   \n",
      "318850  https://bj.lianjia.com/chengjiao/BJYZ92363553....  BJYZ92363553   \n",
      "\n",
      "               Lng        Lat            Cid   tradeTime   DOM  followers  \\\n",
      "0       116.475489  40.019520  1111027376244  2016-08-09  1464        106   \n",
      "1       116.453917  39.881534  1111027381879  2016-07-28   903        126   \n",
      "2       116.561978  39.877145  1111040862969  2016-12-11  1271         48   \n",
      "3       116.438010  40.076114  1111043185817  2016-09-30   965        138   \n",
      "4       116.428392  39.886229  1111027381174  2016-08-28   927        286   \n",
      "...            ...        ...            ...         ...   ...        ...   \n",
      "318846  116.546899  39.755236  1111027377053  2016-06-10     1          8   \n",
      "318847  116.497474  39.810115  1111027377957  2016-06-10   nan          1   \n",
      "318848  116.497256  39.804081  1111027380056  2016-06-05     1          2   \n",
      "318849  116.501794  39.799347  1111027377054  2016-06-12   nan          4   \n",
      "318850  116.497474  39.810115  1111027377957  2016-06-11     1          0   \n",
      "\n",
      "        totalPrice  price  ...  buildingType constructionTime  \\\n",
      "0            415.0  31680  ...             1             2005   \n",
      "1            575.0  43436  ...             1             2004   \n",
      "2           1030.0  52021  ...             4             2005   \n",
      "3            297.5  22202  ...             1             2008   \n",
      "4            392.0  48396  ...             4             1960   \n",
      "...            ...    ...  ...           ...              ...   \n",
      "318846       350.0  20580  ...             4             2003   \n",
      "318847       108.8  31006  ...             1             2009   \n",
      "318848       359.0  35138  ...             4             2000   \n",
      "318849       720.0  40373  ...             4             2003   \n",
      "318850       450.0  48675  ...             4               δ֪   \n",
      "\n",
      "       renovationCondition  buildingStructure ladderRatio elevator  \\\n",
      "0                        3                  6       0.217      1.0   \n",
      "1                        4                  6       0.667      1.0   \n",
      "2                        3                  6       0.500      1.0   \n",
      "3                        1                  6       0.273      1.0   \n",
      "4                        2                  2       0.333      0.0   \n",
      "...                    ...                ...         ...      ...   \n",
      "318846                   1                  6       0.333      0.0   \n",
      "318847                   1                  6       0.222      1.0   \n",
      "318848                   3                  6       0.500      1.0   \n",
      "318849                   4                  2       0.500      0.0   \n",
      "318850                   4                  6       1.000      1.0   \n",
      "\n",
      "       fiveYearsProperty subway  district  communityAverage  \n",
      "0                    0.0    1.0         7             56021  \n",
      "1                    1.0    0.0         7             71539  \n",
      "2                    0.0    0.0         7             48160  \n",
      "3                    0.0    0.0         6             51238  \n",
      "4                    1.0    1.0         1             62588  \n",
      "...                  ...    ...       ...               ...  \n",
      "318846               1.0    0.0         3             36545  \n",
      "318847               0.0    1.0         3             54282  \n",
      "318848               1.0    0.0         3             46927  \n",
      "318849               1.0    0.0         3             54842  \n",
      "318850               0.0    1.0         3             54282  \n",
      "\n",
      "[318851 rows x 26 columns]\n"
     ]
    }
   ],
   "source": [
    "pandas_df = df.toPandas()\n",
    "print(pandas_df)"
   ]
  },
  {
   "cell_type": "markdown",
   "id": "5e228f6d",
   "metadata": {},
   "source": [
    "## 2.2 Data Description"
   ]
  },
  {
   "cell_type": "code",
   "execution_count": 6,
   "id": "9016f26b",
   "metadata": {},
   "outputs": [
    {
     "name": "stdout",
     "output_type": "stream",
     "text": [
      "root\n",
      " |-- url: string (nullable = true)\n",
      " |-- id: string (nullable = true)\n",
      " |-- Lng: double (nullable = true)\n",
      " |-- Lat: double (nullable = true)\n",
      " |-- Cid: long (nullable = true)\n",
      " |-- tradeTime: string (nullable = true)\n",
      " |-- DOM: string (nullable = true)\n",
      " |-- followers: integer (nullable = true)\n",
      " |-- totalPrice: double (nullable = true)\n",
      " |-- price: integer (nullable = true)\n",
      " |-- square: double (nullable = true)\n",
      " |-- livingRoom: string (nullable = true)\n",
      " |-- drawingRoom: string (nullable = true)\n",
      " |-- kitchen: integer (nullable = true)\n",
      " |-- bathRoom: string (nullable = true)\n",
      " |-- floor: string (nullable = true)\n",
      " |-- buildingType: string (nullable = true)\n",
      " |-- constructionTime: string (nullable = true)\n",
      " |-- renovationCondition: integer (nullable = true)\n",
      " |-- buildingStructure: integer (nullable = true)\n",
      " |-- ladderRatio: double (nullable = true)\n",
      " |-- elevator: double (nullable = true)\n",
      " |-- fiveYearsProperty: double (nullable = true)\n",
      " |-- subway: double (nullable = true)\n",
      " |-- district: integer (nullable = true)\n",
      " |-- communityAverage: string (nullable = true)\n",
      "\n"
     ]
    }
   ],
   "source": [
    "#see data types\n",
    "df.printSchema()"
   ]
  },
  {
   "cell_type": "markdown",
   "id": "5b013ad9",
   "metadata": {},
   "source": [
    "## 2.3 Data Exploration"
   ]
  },
  {
   "cell_type": "code",
   "execution_count": 7,
   "id": "25e84b10",
   "metadata": {},
   "outputs": [
    {
     "data": {
      "image/png": "[encoded data removed]",
      "text/plain": [
       "<Figure size 432x288 with 1 Axes>"
      ]
     },
     "metadata": {
      "needs_background": "light"
     },
     "output_type": "display_data"
    },
    {
     "data": {
      "image/png": "[encoded data removed]",
      "text/plain": [
       "<Figure size 432x288 with 1 Axes>"
      ]
     },
     "metadata": {
      "needs_background": "light"
     },
     "output_type": "display_data"
    },
    {
     "name": "stderr",
     "output_type": "stream",
     "text": [
      "/home/ubuntu/.local/lib/python3.10/site-packages/IPython/core/pylabtools.py:151: UserWarning: Glyph 1450 (\\N{HEBREW ACCENT YERAH BEN YOMO}) missing from current font.\n",
      "  fig.canvas.print_figure(bytes_io, **kw)\n",
      "/home/ubuntu/.local/lib/python3.10/site-packages/IPython/core/pylabtools.py:151: UserWarning: Matplotlib currently does not support Hebrew natively.\n",
      "  fig.canvas.print_figure(bytes_io, **kw)\n"
     ]
    },
    {
     "data": {
      "image/png": "[encoded data removed]",
      "text/plain": [
       "<Figure size 432x288 with 1 Axes>"
      ]
     },
     "metadata": {
      "needs_background": "light"
     },
     "output_type": "display_data"
    },
    {
     "data": {
      "image/png": "[encoded data removed]",
      "text/plain": [
       "<Figure size 432x288 with 1 Axes>"
      ]
     },
     "metadata": {
      "needs_background": "light"
     },
     "output_type": "display_data"
    }
   ],
   "source": [
    "#import required libraries\n",
    "import matplotlib.pyplot as plt\n",
    "plt.hist(pandas_df['livingRoom'], bins=20, edgecolor='black')\n",
    "plt.xlabel('Number of Living Rooms')\n",
    "plt.ylabel('Count')\n",
    "plt.title('Distribution of Living Rooms')\n",
    "plt.show()\n",
    "\n",
    "\n",
    "\n",
    "plt.hist(pandas_df['drawingRoom'], bins=20, edgecolor='black')\n",
    "plt.xlabel('Number of Drawing Rooms')\n",
    "plt.ylabel('Count')\n",
    "plt.title('Distribution of Drawing Rooms')\n",
    "plt.show()\n",
    "\n",
    "\n",
    "plt.hist(pandas_df['bathRoom'], bins=20, edgecolor='black')\n",
    "plt.xlabel('Number of Bath Rooms')\n",
    "plt.ylabel('Count')\n",
    "plt.title('Distribution of Bath Rooms')\n",
    "plt.show()\n",
    "\n",
    "plt.hist(pandas_df['kitchen'], bins=20, edgecolor='black')\n",
    "plt.xlabel('Number of Kitchens')\n",
    "plt.ylabel('Count')\n",
    "plt.title('Distribution of Kitchens')\n",
    "plt.show()\n",
    "\n",
    "\n"
   ]
  },
  {
   "cell_type": "code",
   "execution_count": 8,
   "id": "4dbd0a6f",
   "metadata": {},
   "outputs": [
    {
     "data": {
      "image/png": "[encoded data removed]",
      "text/plain": [
       "<Figure size 432x288 with 1 Axes>"
      ]
     },
     "metadata": {
      "needs_background": "light"
     },
     "output_type": "display_data"
    }
   ],
   "source": [
    "#plot trade Time\n",
    "x_axis = pandas_df['tradeTime']\n",
    "y_axis = pandas_df['price']\n",
    "plt.plot(x_axis, y_axis)\n",
    "plt.xlabel('Trade Time')\n",
    "plt.ylabel('Average Price per Square')\n",
    "plt.title('Average price over time')\n",
    "plt.show()"
   ]
  },
  {
   "cell_type": "code",
   "execution_count": 9,
   "id": "e1d4492c",
   "metadata": {},
   "outputs": [
    {
     "name": "stderr",
     "output_type": "stream",
     "text": [
      "                                                                                \r"
     ]
    },
    {
     "data": {
      "image/png": "[encoded data removed]",
      "text/plain": [
       "<Figure size 720x432 with 1 Axes>"
      ]
     },
     "metadata": {
      "needs_background": "light"
     },
     "output_type": "display_data"
    }
   ],
   "source": [
    "#plot monthly average price over the years\n",
    "from pyspark.sql.functions import to_date\n",
    "import pandas as pd\n",
    "df = df.withColumn(\"tradeTime\", to_date(df[\"tradeTime\"], \"yyyy-MM-dd\"))\n",
    "df = df.orderBy(\"tradeTime\")\n",
    "\n",
    "time_pdf = df.select(\"tradeTime\", \"price\", \"communityAverage\").toPandas()\n",
    "\n",
    "\n",
    "time_pdf['tradeTime'] = pd.to_datetime(time_pdf['tradeTime'])\n",
    "time_pdf.set_index(\"tradeTime\", inplace = True)\n",
    "\n",
    "time_pdf = time_pdf.resample('M').mean()\n",
    "\n",
    "\n",
    "plt.figure(figsize=(10, 6))\n",
    "plt.plot(time_pdf.index, time_pdf[\"price\"], marker='o')\n",
    "\n",
    "plt.xlabel(\"Date\")\n",
    "plt.ylabel(\"Price\")\n",
    "plt.title(\"Price over Time\")\n",
    "plt.grid(True)\n",
    "plt.show()"
   ]
  },
  {
   "cell_type": "code",
   "execution_count": 10,
   "id": "d5b7af02",
   "metadata": {},
   "outputs": [
    {
     "data": {
      "image/png": "[encoded data removed]",
      "text/plain": [
       "<Figure size 432x288 with 1 Axes>"
      ]
     },
     "metadata": {
      "needs_background": "light"
     },
     "output_type": "display_data"
    }
   ],
   "source": [
    "#plot building structure\n",
    "plt.hist(pandas_df['buildingStructure'], bins=20, edgecolor='black')\n",
    "plt.xlabel('Building Structure')\n",
    "plt.ylabel('Count')\n",
    "plt.title('Distribution of Building Structures')\n",
    "plt.show()"
   ]
  },
  {
   "cell_type": "code",
   "execution_count": 11,
   "id": "bf1c516f",
   "metadata": {},
   "outputs": [
    {
     "data": {
      "text/plain": [
       "<AxesSubplot:title={'center':'price'}, xlabel='elevator'>"
      ]
     },
     "execution_count": 11,
     "metadata": {},
     "output_type": "execute_result"
    },
    {
     "data": {
      "image/png": "[encoded data removed]",
      "text/plain": [
       "<Figure size 432x288 with 1 Axes>"
      ]
     },
     "metadata": {
      "needs_background": "light"
     },
     "output_type": "display_data"
    }
   ],
   "source": [
    "#box plot of elevator\n",
    "pandas_df.boxplot(by = 'elevator', column = ['price'])"
   ]
  },
  {
   "cell_type": "code",
   "execution_count": 12,
   "id": "1eaf5fe4",
   "metadata": {},
   "outputs": [
    {
     "data": {
      "image/png": "[encoded data removed]",
      "text/plain": [
       "<Figure size 432x288 with 1 Axes>"
      ]
     },
     "metadata": {
      "needs_background": "light"
     },
     "output_type": "display_data"
    }
   ],
   "source": [
    "#scatter plot of total price and square\n",
    "plt.scatter(pandas_df['totalPrice'], pandas_df['square'])\n",
    "plt.show()"
   ]
  },
  {
   "cell_type": "markdown",
   "id": "a4dd3c3b",
   "metadata": {},
   "source": [
    "## 2.4 Data Quality Verification"
   ]
  },
  {
   "cell_type": "code",
   "execution_count": 13,
   "id": "1d52dade",
   "metadata": {},
   "outputs": [
    {
     "name": "stderr",
     "output_type": "stream",
     "text": [
      "[Stage 11:=============================>                            (1 + 1) / 2]\r"
     ]
    },
    {
     "name": "stdout",
     "output_type": "stream",
     "text": [
      "+---+---+---+---+---+---------+---+---------+----------+-----+------+----------+-----------+-------+--------+-----+------------+----------------+-------------------+-----------------+-----------+--------+-----------------+------+--------+----------------+\n",
      "|url| id|Lng|Lat|Cid|tradeTime|DOM|followers|totalPrice|price|square|livingRoom|drawingRoom|kitchen|bathRoom|floor|buildingType|constructionTime|renovationCondition|buildingStructure|ladderRatio|elevator|fiveYearsProperty|subway|district|communityAverage|\n",
      "+---+---+---+---+---+---------+---+---------+----------+-----+------+----------+-----------+-------+--------+-----+------------+----------------+-------------------+-----------------+-----------+--------+-----------------+------+--------+----------------+\n",
      "|  0|  0|  0|  0|  0|        0|  0|        0|         0|    0|     0|         0|          0|      0|       0|    0|           0|               0|                  0|                0|          0|      32|               32|    32|       0|               0|\n",
      "+---+---+---+---+---+---------+---+---------+----------+-----+------+----------+-----------+-------+--------+-----+------------+----------------+-------------------+-----------------+-----------+--------+-----------------+------+--------+----------------+\n",
      "\n"
     ]
    },
    {
     "name": "stderr",
     "output_type": "stream",
     "text": [
      "\r",
      "                                                                                \r"
     ]
    }
   ],
   "source": [
    "#check how many many null values are present in each column\n",
    "from pyspark.sql.functions import col, sum\n",
    "null_counts = df.select([sum(col(c).isNull().cast(\"int\")).alias(c) for c in df.columns])\n",
    "null_counts.show()"
   ]
  },
  {
   "cell_type": "code",
   "execution_count": 14,
   "id": "e9408cce",
   "metadata": {},
   "outputs": [
    {
     "name": "stderr",
     "output_type": "stream",
     "text": [
      "                                                                                \r"
     ]
    },
    {
     "data": {
      "text/plain": [
       "{'Lng': 8128,\n",
       " 'Lat': 6799,\n",
       " 'followers': 31339,\n",
       " 'totalPrice': 15730,\n",
       " 'price': 11751,\n",
       " 'square': 12078,\n",
       " 'kitchen': 3561,\n",
       " 'renovationCondition': 0,\n",
       " 'buildingStructure': 0,\n",
       " 'ladderRatio': 7256,\n",
       " 'elevator': 0,\n",
       " 'fiveYearsProperty': 0,\n",
       " 'subway': 0,\n",
       " 'district': 57330}"
      ]
     },
     "execution_count": 14,
     "metadata": {},
     "output_type": "execute_result"
    }
   ],
   "source": [
    "#check outliers using the IQR method\n",
    "\n",
    "from pyspark.sql import functions as F\n",
    "from pyspark.sql.types import IntegerType, FloatType, DoubleType\n",
    "\n",
    "def find_outliers_iqr(df):\n",
    "    # Get a list of numeric columns\n",
    "    numeric_columns = [field.name for field in df.schema.fields if isinstance(field.dataType, \n",
    "                                                                              (IntegerType, FloatType, DoubleType))]\n",
    "    \n",
    "    outliers_count = {}\n",
    "    for col_name in numeric_columns:\n",
    "        # Calculate Q1 and Q3 for the column\n",
    "        q1, q3 = df.approxQuantile(col_name, [0.25, 0.75], 0.0)\n",
    "        \n",
    "        # Calculate IQR\n",
    "        iqr = q3 - q1\n",
    "        \n",
    "        # Define outlier boundaries\n",
    "        lower_bound = q1 - 1.5 * iqr\n",
    "        upper_bound = q3 + 1.5 * iqr\n",
    "\n",
    "        # Filter outliers for the column\n",
    "        outliers = df.filter((df[col_name] < lower_bound) | (df[col_name] > upper_bound))\n",
    "        outliers_count[col_name] = outliers.count()\n",
    "        \n",
    "    return outliers_count\n",
    "        \n",
    "       \n",
    "\n",
    "find_outliers_iqr(df)     "
   ]
  },
  {
   "cell_type": "markdown",
   "id": "a8937078",
   "metadata": {},
   "source": [
    "# 3. Data Cleaning"
   ]
  },
  {
   "cell_type": "markdown",
   "id": "6f41d551",
   "metadata": {},
   "source": [
    "## 3.1 Select Data"
   ]
  },
  {
   "cell_type": "code",
   "execution_count": 15,
   "id": "2bd23900",
   "metadata": {},
   "outputs": [
    {
     "name": "stderr",
     "output_type": "stream",
     "text": [
      "[Stage 112:============================>                            (1 + 1) / 2]\r"
     ]
    },
    {
     "name": "stdout",
     "output_type": "stream",
     "text": [
      "+---+---+---+---+---+---------+---+---------+----------+-----+------+----------+-----------+-------+--------+-----+------------+----------------+-------------------+-----------------+-----------+--------+-----------------+------+--------+----------------+\n",
      "|url| id|Lng|Lat|Cid|tradeTime|DOM|followers|totalPrice|price|square|livingRoom|drawingRoom|kitchen|bathRoom|floor|buildingType|constructionTime|renovationCondition|buildingStructure|ladderRatio|elevator|fiveYearsProperty|subway|district|communityAverage|\n",
      "+---+---+---+---+---+---------+---+---------+----------+-----+------+----------+-----------+-------+--------+-----+------------+----------------+-------------------+-----------------+-----------+--------+-----------------+------+--------+----------------+\n",
      "|  0|  0|  0|  0|  0|        0|  0|        0|         0|    0|     0|         0|          0|      0|       0|    0|           0|               0|                  0|                0|          0|       0|                0|     0|       0|               0|\n",
      "+---+---+---+---+---+---------+---+---------+----------+-----+------+----------+-----------+-------+--------+-----+------------+----------------+-------------------+-----------------+-----------+--------+-----------------+------+--------+----------------+\n",
      "\n"
     ]
    },
    {
     "name": "stderr",
     "output_type": "stream",
     "text": [
      "\r",
      "                                                                                \r"
     ]
    }
   ],
   "source": [
    "#We will drop the rows with null values\n",
    "df = df.dropna()\n",
    "null_counts = df.select([sum(col(c).isNull().cast(\"int\")).alias(c) for c in df.columns])\n",
    "null_counts.show()"
   ]
  },
  {
   "cell_type": "code",
   "execution_count": 16,
   "id": "13136316",
   "metadata": {},
   "outputs": [
    {
     "name": "stderr",
     "output_type": "stream",
     "text": [
      "[Stage 115:============================>                            (1 + 1) / 2]\r"
     ]
    },
    {
     "name": "stdout",
     "output_type": "stream",
     "text": [
      "+--------------------+------------+----------+---------+-------------+----------+---+---------+----------+-----+------+----------+-----------+-------+--------+-----+------------+----------------+-------------------+-----------------+-----------+--------+-----------------+------+--------+----------------+\n",
      "|                 url|          id|       Lng|      Lat|          Cid| tradeTime|DOM|followers|totalPrice|price|square|livingRoom|drawingRoom|kitchen|bathRoom|floor|buildingType|constructionTime|renovationCondition|buildingStructure|ladderRatio|elevator|fiveYearsProperty|subway|district|communityAverage|\n",
      "+--------------------+------------+----------+---------+-------------+----------+---+---------+----------+-----+------+----------+-----------+-------+--------+-----+------------+----------------+-------------------+-----------------+-----------+--------+-----------------+------+--------+----------------+\n",
      "|https://bj.lianji...|BJCP84309432|116.386555|  40.0865|1111027382546|2002-06-01|nan|        0|     152.5|17053| 89.43|         2|          2|      1|       1| �� 9|           4|            2009|                  1|                6|      0.333|     1.0|              0.0|   0.0|       6|           47574|\n",
      "|https://bj.lianji...|BJCY84594947|116.482331|40.014156|1111027380302|2002-07-06|nan|        0|     325.0|27041|120.19|         3|          1|      1|       1|�� 26|           1|            2002|                  1|                6|       0.25|     1.0|              1.0|   1.0|       7|           65595|\n",
      "|https://bj.lianji...|BJCY84582560|116.603501|39.919667|1111027377416|2002-07-10|nan|        0|     186.0|14210| 130.9|         3|          1|      1|       2|�� 21|           1|            2001|                  1|                6|      0.333|     1.0|              0.0|   1.0|       7|           43307|\n",
      "|https://bj.lianji...|BJFT85137402|116.299198|39.838131|1111027380071|2003-07-31|nan|        0|     160.7|26923| 59.69|         2|          1|      1|       1|�� 28|           1|            2005|                  1|                6|      0.909|     1.0|              0.0|   1.0|       2|           48853|\n",
      "|https://bj.lianji...|BJCP00426371|116.330198|40.074228|1111027381003|2008-10-07|nan|        0|     126.0|22195| 56.77|         1|          1|      1|       1|�� 20|           3|              δ֪|                  1|                6|      0.333|     1.0|              0.0|   1.0|       6|           50205|\n",
      "|https://bj.lianji...|BJXC84540396|116.347196|39.884733|1111027376720|2009-01-11|nan|        0|     150.0|26964| 55.63|         2|          1|      1|       1| �� 6|           4|            1992|                  1|                2|       0.25|     0.0|              1.0|   0.0|      10|           77781|\n",
      "|https://bj.lianji...|BJ0000614981|116.122491|39.939735|1111027377936|2010-01-01|  1|        0|     165.0|13699|120.45|         3|          1|      0|       1|�� 12|           3|            2008|                  4|                6|      0.333|     1.0|              0.0|   0.0|      12|           39994|\n",
      "|https://bj.lianji...|BJ0000614985| 116.12215|39.932268|1111027378707|2010-01-05|  1|        0|      72.5|10546| 68.75|         2|          1|      0|       1| �� 6|           4|            1998|                  3|                2|        0.5|     0.0|              0.0|   0.0|      12|           35181|\n",
      "|https://bj.lianji...|BJ0000614991|116.111318|39.949921|1111027377794|2010-01-15|  1|        0|     114.0|12676| 89.94|         2|          1|      0|       1| �� 6|           4|            2003|                  3|                2|        0.5|     0.0|              0.0|   0.0|      12|           36923|\n",
      "|https://bj.lianji...|BJ0000614992|116.119651|39.934504|1111027382024|2010-01-16|  1|        0|      84.0|11711| 71.73|         1|          1|      0|       1|�� 11|           4|            2005|                  3|                6|      0.333|     1.0|              0.0|   0.0|      12|           39294|\n",
      "|https://bj.lianji...|BJ0000614999|116.121964|39.939762|1111027375862|2010-01-18|  1|        0|      80.0|12190| 65.63|         2|          1|      0|       1| �� 6|           4|            2003|                  3|                2|        0.5|     0.0|              0.0|   0.0|      12|           37588|\n",
      "|https://bj.lianji...|BJ0000615004|116.119651|39.934504|1111027382024|2010-01-24|  1|        0|     110.0|12132| 90.67|         2|          2|      0|       1| �� 6|           4|            2003|                  4|                2|        0.5|     0.0|              0.0|   0.0|      12|           39294|\n",
      "|https://bj.lianji...|BJ0000615006|116.119651|39.934504|1111027382024|2010-01-24|  1|        0|     141.5|13154|107.58|         3|          1|      0|       1| �� 6|           4|            2008|                  2|                2|        0.5|     0.0|              0.0|   0.0|      12|           39294|\n",
      "|https://bj.lianji...|BJ0000615005|116.117724|39.941152|1111052110644|2010-01-24|  1|        0|     163.0|13713|118.87|         3|          1|      0|       2|�� 16|           3|            2005|                  4|                6|        1.0|     1.0|              0.0|   0.0|      12|           39492|\n",
      "|https://bj.lianji...|BJ0000615010|116.117724|39.941152|1111052110644|2010-01-27|  1|        0|      69.0|13306| 51.86|         1|          1|      0|       1|�� 14|           3|            2006|                  4|                6|      0.125|     1.0|              0.0|   0.0|      12|           39492|\n",
      "|https://bj.lianji...|BJ0000615012|116.117019| 39.93386|1111052073923|2010-01-29|  1|        0|      51.0|10861| 46.96|         1|          1|      0|       1| �� 6|           4|            1990|                  3|                2|      0.333|     0.0|              0.0|   0.0|      12|           39381|\n",
      "|https://bj.lianji...|BJ0000615013|116.117724|39.941152|1111052110644|2010-01-30|  1|        0|      60.0|12937| 46.38|         1|          1|      0|       1|�� 14|           3|            2006|                  3|                6|      0.125|     1.0|              0.0|   0.0|      12|           39492|\n",
      "|https://bj.lianji...|BJ0000615014|116.111318|39.949921|1111027377794|2010-01-30|  1|        0|     115.5|12673| 91.14|         2|          2|      0|       1| �� 6|           4|            2003|                  3|                2|        0.5|     0.0|              0.0|   0.0|      12|           36923|\n",
      "|https://bj.lianji...|BJ0000615018|116.121964|39.939762|1111027375862|2010-02-02|  1|        0|     147.0|14051|104.62|         2|          2|      0|       1|�� 12|           4|            2003|                  4|                6|        0.5|     1.0|              0.0|   0.0|      12|           37588|\n",
      "|https://bj.lianji...|BJ0000615026|116.117019| 39.93386|1111052073923|2010-02-08|  1|        0|      80.8|12389| 65.22|         2|          1|      0|       1| �� 6|           4|            1990|                  3|                2|      0.333|     0.0|              0.0|   0.0|      12|           39381|\n",
      "+--------------------+------------+----------+---------+-------------+----------+---+---------+----------+-----+------+----------+-----------+-------+--------+-----+------------+----------------+-------------------+-----------------+-----------+--------+-----------------+------+--------+----------------+\n",
      "only showing top 20 rows\n",
      "\n"
     ]
    },
    {
     "name": "stderr",
     "output_type": "stream",
     "text": [
      "\r",
      "                                                                                \r"
     ]
    }
   ],
   "source": [
    "#Verify the cleaned dataframe\n",
    "\n",
    "df.show()"
   ]
  },
  {
   "cell_type": "code",
   "execution_count": 17,
   "id": "51f6bf0d",
   "metadata": {},
   "outputs": [
    {
     "name": "stderr",
     "output_type": "stream",
     "text": [
      "[Stage 172:>                                                        (0 + 2) / 2]\r"
     ]
    },
    {
     "name": "stdout",
     "output_type": "stream",
     "text": [
      "+--------------------+------------+----------+---------+-------------+----------+---+---------+----------+-----+------+----------+-----------+-------+--------+-----+------------+----------------+-------------------+-----------------+-----------+--------+-----------------+------+--------+----------------+\n",
      "|                 url|          id|       Lng|      Lat|          Cid| tradeTime|DOM|followers|totalPrice|price|square|livingRoom|drawingRoom|kitchen|bathRoom|floor|buildingType|constructionTime|renovationCondition|buildingStructure|ladderRatio|elevator|fiveYearsProperty|subway|district|communityAverage|\n",
      "+--------------------+------------+----------+---------+-------------+----------+---+---------+----------+-----+------+----------+-----------+-------+--------+-----+------------+----------------+-------------------+-----------------+-----------+--------+-----------------+------+--------+----------------+\n",
      "|https://bj.lianji...|BJCP84309432|116.386555|  40.0865|1111027382546|2002-06-01|nan|        0|     152.5|17053| 89.43|         2|          2|      1|       1| �� 9|           4|            2009|                  1|                6|      0.333|     1.0|              0.0|   0.0|       6|           47574|\n",
      "|https://bj.lianji...|BJCY84594947|116.482331|40.014156|1111027380302|2002-07-06|nan|        0|     325.0|27041|120.19|         3|          1|      1|       1|�� 26|           1|            2002|                  1|                6|       0.25|     1.0|              1.0|   1.0|       7|           65595|\n",
      "|https://bj.lianji...|BJCY84582560|116.603501|39.919667|1111027377416|2002-07-10|nan|        0|     186.0|14210| 130.9|         3|          1|      1|       2|�� 21|           1|            2001|                  1|                6|      0.333|     1.0|              0.0|   1.0|       7|           43307|\n",
      "|https://bj.lianji...|BJCP00426371|116.330198|40.074228|1111027381003|2008-10-07|nan|        0|     126.0|22195| 56.77|         1|          1|      1|       1|�� 20|           3|              δ֪|                  1|                6|      0.333|     1.0|              0.0|   1.0|       6|           50205|\n",
      "|https://bj.lianji...|BJXC84540396|116.347196|39.884733|1111027376720|2009-01-11|nan|        0|     150.0|26964| 55.63|         2|          1|      1|       1| �� 6|           4|            1992|                  1|                2|       0.25|     0.0|              1.0|   0.0|      10|           77781|\n",
      "|https://bj.lianji...|BJCY88378047|116.470121|40.018763|1111027382115|2011-01-04|nan|        0|     170.5|34634| 49.23|         1|          1|      1|       1|�� 16|           1|            2004|                  4|                6|      0.154|     1.0|              1.0|   1.0|       7|           66219|\n",
      "|https://bj.lianji...|BJCY88092072|116.469248|40.012773|1111027373695|2011-01-04|nan|        0|     597.0|54917|108.71|         2|          2|      1|       1|�� 28|           3|            2008|                  4|                6|      0.667|     1.0|              1.0|   1.0|       7|          101662|\n",
      "|https://bj.lianji...|BJCY86786884|116.428122|39.973788|1111027375188|2011-01-08|nan|        5|     248.0|42620| 58.19|         2|          1|      1|       1|�� 16|           1|            1980|                  1|                6|       0.25|     1.0|              1.0|   1.0|       7|           68665|\n",
      "|https://bj.lianji...|BJCY84121898|116.480977|39.886406|1111027378258|2011-01-14|nan|        0|     108.0|26641| 40.54|         1|          1|      1|       1| �� 6|           4|            1992|                  1|                2|      0.333|     0.0|              1.0|   1.0|       7|           59606|\n",
      "|https://bj.lianji...|BJXC07827747|116.356749|39.942653|1111027379865|2011-01-18|nan|        0|     177.0|30891|  57.3|         2|          1|      1|       1| �� 6|           4|            1987|                  1|                2|        0.5|     0.0|              0.0|   1.0|      10|          101734|\n",
      "|https://bj.lianji...|BJCY88304440|116.476921|39.983744|1111027375062|2011-01-21|nan|        3|     218.0|38482| 56.65|         2|          1|      1|       1| �� 6|           4|            1997|                  3|                2|        0.5|     0.0|              1.0|   0.0|       7|           68349|\n",
      "|https://bj.lianji...|BJXC84228934|116.336945|39.882166|1111027376034|2011-01-30|nan|        0|     100.0|23748| 42.11|         1|          0|      1|       1|�� 28|           1|              δ֪|                  1|                6|        0.2|     1.0|              1.0|   0.0|      10|           81467|\n",
      "|https://bj.lianji...|BJCY00463580|116.437939|39.999421|1111027380024|2011-01-31|nan|        0|     166.0|27178| 61.08|         1|          1|      1|       1|�� 13|           3|              δ֪|                  1|                6|      0.667|     1.0|              1.0|   1.0|       7|           66957|\n",
      "|https://bj.lianji...|BJSJ86779458|116.250662|39.910338|1111027377826|2011-02-16|nan|       16|     153.0|36000|  42.5|         1|          1|      1|       1| �� 5|           4|            2003|                  1|                4|      0.333|     0.0|              1.0|   1.0|       9|           56659|\n",
      "|https://bj.lianji...|BJCY84555907| 116.43777|39.986008|1111027379661|2011-03-18|nan|        0|     133.6|32642| 40.93|         2|          1|      1|       1| �� 5|           4|            1975|                  1|                6|      0.333|     0.0|              0.0|   1.0|       7|           68202|\n",
      "|https://bj.lianji...|BJHD84246562|116.349984|39.992769|1111027382338|2011-03-28|nan|        0|     168.0|31520|  53.3|         2|          1|      1|       1| �� 6|           4|            1989|                  1|                2|        0.5|     0.0|              0.0|   1.0|       8|           86119|\n",
      "|https://bj.lianji...|BJCY89335823|116.419162|40.031546|1111027379663|2011-05-15|nan|        0|     530.0|40782|129.96|         2|          1|      1|       2|�� 31|           4|            2007|                  4|                6|        0.5|     1.0|              1.0|   1.0|       7|           69760|\n",
      "|https://bj.lianji...|BJXC84357429|116.348282|39.892777|1111027378040|2011-05-31|nan|        0|     178.0|30335| 58.68|         1|          1|      1|       1|�� 29|           1|            2006|                  1|                6|      0.333|     1.0|              1.0|   1.0|      10|           97655|\n",
      "|https://bj.lianji...|BJCP84393877|116.349009|40.074638|1111027377718|2011-05-31|nan|        0|     139.0|18180| 76.46|         1|          1|      1|       1| �� 6|           4|            2004|                  1|                2|        0.5|     0.0|              1.0|   1.0|       6|           47958|\n",
      "|https://bj.lianji...|BJXC84759097|116.383994|39.890405|1111027382720|2011-05-31|nan|        0|     480.0|34043| 141.0|         3|          2|      1|       2|�� 20|           3|            2014|                  1|                6|      0.333|     0.0|              0.0|   1.0|      10|          137745|\n",
      "+--------------------+------------+----------+---------+-------------+----------+---+---------+----------+-----+------+----------+-----------+-------+--------+-----+------------+----------------+-------------------+-----------------+-----------+--------+-----------------+------+--------+----------------+\n",
      "only showing top 20 rows\n",
      "\n"
     ]
    },
    {
     "name": "stderr",
     "output_type": "stream",
     "text": [
      "\r",
      "[Stage 172:============================>                            (1 + 1) / 2]\r",
      "\r",
      "                                                                                \r"
     ]
    }
   ],
   "source": [
    "#Drop the outliers\n",
    "def remove_outliers_iqr(df):\n",
    "    # Get a list of numeric columns\n",
    "    numeric_columns = [field.name for field in df.schema.fields if isinstance(field.dataType, \n",
    "                                                                              (IntegerType, FloatType, DoubleType))]\n",
    "    \n",
    "    for col_name in numeric_columns:\n",
    "        # Calculate Q1 and Q3 for the column\n",
    "        q1, q3 = df.approxQuantile(col_name, [0.25, 0.75], 0.0)\n",
    "        \n",
    "        # Calculate IQR\n",
    "        iqr = q3 - q1\n",
    "        \n",
    "        # Define outlier boundaries\n",
    "        lower_bound = q1 - 1.5 * iqr\n",
    "        upper_bound = q3 + 1.5 * iqr\n",
    "\n",
    "        # Filter to remove outliers for the column\n",
    "        df = df.filter((df[col_name] >= lower_bound) & (df[col_name] <= upper_bound))\n",
    "\n",
    "    return df\n",
    "\n",
    "df = remove_outliers_iqr(df)\n",
    "\n",
    "df.show()"
   ]
  },
  {
   "cell_type": "code",
   "execution_count": 18,
   "id": "414d34d4",
   "metadata": {},
   "outputs": [
    {
     "name": "stderr",
     "output_type": "stream",
     "text": [
      "\r",
      "[Stage 173:>                                                        (0 + 2) / 2]\r"
     ]
    },
    {
     "name": "stdout",
     "output_type": "stream",
     "text": [
      "The shape of the DataFrame is: (197129, 26)\n"
     ]
    },
    {
     "name": "stderr",
     "output_type": "stream",
     "text": [
      "\r",
      "                                                                                \r"
     ]
    }
   ],
   "source": [
    "def get_shape(df):\n",
    "    num_rows = df.count()\n",
    "    num_columns = len(df.columns)\n",
    "    print(f\"The shape of the DataFrame is: ({num_rows}, {num_columns})\")\n",
    "\n",
    "\n",
    "\n",
    "get_shape(df)"
   ]
  },
  {
   "cell_type": "markdown",
   "id": "e9e8cbb5",
   "metadata": {},
   "source": [
    "## 3.2 Constructing New Data"
   ]
  },
  {
   "cell_type": "code",
   "execution_count": 19,
   "id": "221dcf11",
   "metadata": {},
   "outputs": [
    {
     "name": "stderr",
     "output_type": "stream",
     "text": [
      "\r",
      "[Stage 176:>                                                        (0 + 2) / 2]\r"
     ]
    },
    {
     "name": "stdout",
     "output_type": "stream",
     "text": [
      "+-----+------------+\n",
      "|floor|Floor Number|\n",
      "+-----+------------+\n",
      "| �� 9|           9|\n",
      "|�� 26|          26|\n",
      "|�� 21|          21|\n",
      "|�� 20|          20|\n",
      "| �� 6|           6|\n",
      "+-----+------------+\n",
      "only showing top 5 rows\n",
      "\n"
     ]
    },
    {
     "name": "stderr",
     "output_type": "stream",
     "text": [
      "\r",
      "[Stage 176:============================>                            (1 + 1) / 2]\r",
      "\r",
      "                                                                                \r"
     ]
    }
   ],
   "source": [
    "#Extract last two characters from the floor attribute\n",
    "from pyspark.sql.functions import substring\n",
    "df = df.withColumn('Floor Number', substring(df['floor'], -2, 2))\n",
    "\n",
    "df.select('floor', 'Floor Number').show(5)"
   ]
  },
  {
   "cell_type": "code",
   "execution_count": 20,
   "id": "f0570323",
   "metadata": {},
   "outputs": [
    {
     "name": "stderr",
     "output_type": "stream",
     "text": [
      "\r",
      "[Stage 177:>                                                        (0 + 2) / 2]\r"
     ]
    },
    {
     "name": "stdout",
     "output_type": "stream",
     "text": [
      "+--------+------------+\n",
      "|district|districtName|\n",
      "+--------+------------+\n",
      "|       6|  Chang Ping|\n",
      "|       7|    Chao Yao|\n",
      "|       7|    Chao Yao|\n",
      "|       6|  Chang Ping|\n",
      "|      10|    Xi Cheng|\n",
      "|       7|    Chao Yao|\n",
      "|       7|    Chao Yao|\n",
      "|       7|    Chao Yao|\n",
      "|       7|    Chao Yao|\n",
      "|      10|    Xi Cheng|\n",
      "+--------+------------+\n",
      "only showing top 10 rows\n",
      "\n"
     ]
    },
    {
     "name": "stderr",
     "output_type": "stream",
     "text": [
      "\r",
      "                                                                                \r"
     ]
    }
   ],
   "source": [
    "#Construct district name attribute\n",
    "from pyspark.sql.functions import when, col\n",
    "\n",
    "# Define the district mapping\n",
    "district_mapping = {1: 'Dong Cheng', 2: 'Feng Tai', 3: 'Tong Zhou', 4: 'Da Xing', 5: 'Fang Shan',\n",
    "                    6: 'Chang Ping', 7: 'Chao Yao', 8: 'Hai Dian', 9: 'Shi Jing Shan',\n",
    "                    10: 'Xi Cheng', 11: 'Ping Gu', 12: 'Men Tou Gou', 13: 'Shui Yi'}\n",
    "\n",
    "# Create the mapping logic\n",
    "df = df.withColumn(\"districtName\", \n",
    "                   when(col(\"district\") == 1, \"Dong Cheng\")\n",
    "                   .when(col(\"district\") == 2, \"Feng Tai\")\n",
    "                   .when(col(\"district\") == 3, \"Tong Zhou\")\n",
    "                   .when(col(\"district\") == 4, \"Da Xing\")\n",
    "                   .when(col(\"district\") == 5, \"Fang Shan\")\n",
    "                   .when(col(\"district\") == 6, \"Chang Ping\")\n",
    "                   .when(col(\"district\") == 7, \"Chao Yao\")\n",
    "                   .when(col(\"district\") == 8, \"Hai Dian\")\n",
    "                   .when(col(\"district\") == 9, \"Shi Jing Shan\")\n",
    "                   .when(col(\"district\") == 10, \"Xi Cheng\")\n",
    "                   .when(col(\"district\") == 11, \"Ping Gu\")\n",
    "                   .when(col(\"district\") == 12, \"Men Tou Gou\")\n",
    "                   .when(col(\"district\") == 13, \"Shui Yi\")\n",
    "                   .otherwise(\"Unknown\"))\n",
    "\n",
    "# Show the 'district' and 'districtName' columns\n",
    "df.select(\"district\", \"districtName\").show(10)"
   ]
  },
  {
   "cell_type": "code",
   "execution_count": 21,
   "id": "df36f5ac",
   "metadata": {},
   "outputs": [
    {
     "name": "stderr",
     "output_type": "stream",
     "text": [
      "                                                                                \r"
     ]
    },
    {
     "data": {
      "image/png": "[encoded data removed]",
      "text/plain": [
       "<Figure size 432x288 with 1 Axes>"
      ]
     },
     "metadata": {
      "needs_background": "light"
     },
     "output_type": "display_data"
    }
   ],
   "source": [
    "# Count the occurrences of each district name\n",
    "district_name_counts = df.groupBy(\"districtName\").count()\n",
    "\n",
    "# Convert to Pandas DataFrame\n",
    "district_name_counts_pd = district_name_counts.toPandas()\n",
    "\n",
    "# Plot the bar chart\n",
    "district_name_counts_pd.set_index('districtName').plot(kind='bar')\n",
    "\n",
    "# Customize the plot\n",
    "plt.title('Distribution of District Names')\n",
    "plt.xlabel('District Name')\n",
    "plt.ylabel('Count')\n",
    "plt.xticks(rotation=45)\n",
    "plt.show()"
   ]
  },
  {
   "cell_type": "markdown",
   "id": "a472273a",
   "metadata": {},
   "source": [
    "## 3.4 Data Integration"
   ]
  },
  {
   "cell_type": "code",
   "execution_count": 22,
   "id": "fcfc092b",
   "metadata": {},
   "outputs": [
    {
     "name": "stdout",
     "output_type": "stream",
     "text": [
      "+------------+--------------------+\n",
      "|          id|Floor Height English|\n",
      "+------------+--------------------+\n",
      "|101086041636|              Middle|\n",
      "|101086920653|              Middle|\n",
      "|101087277815|              Middle|\n",
      "|101087508625|              Middle|\n",
      "|101087641313|              Middle|\n",
      "|101087957433|              Middle|\n",
      "|101088008763|              Middle|\n",
      "|101088050742|              Middle|\n",
      "|101088238072|              Middle|\n",
      "|101088350722|              Middle|\n",
      "+------------+--------------------+\n",
      "only showing top 10 rows\n",
      "\n"
     ]
    }
   ],
   "source": [
    "# had to merge datasets before 3.3\n",
    "\n",
    "#first need to change attribute name of 'ID' to 'id' to match the two datasets\n",
    "df_missing = df_missing.withColumnRenamed('ID', 'id')\n",
    "df_missing.show(10)\n",
    "\n",
    "#join the two dataframes using id\n",
    "df = df.join(df_missing, \"id\", \"inner\")\n",
    "\n"
   ]
  },
  {
   "cell_type": "code",
   "execution_count": 23,
   "id": "f546bf2a",
   "metadata": {},
   "outputs": [
    {
     "data": {
      "text/plain": [
       "['id',\n",
       " 'url',\n",
       " 'Lng',\n",
       " 'Lat',\n",
       " 'Cid',\n",
       " 'tradeTime',\n",
       " 'DOM',\n",
       " 'followers',\n",
       " 'totalPrice',\n",
       " 'price',\n",
       " 'square',\n",
       " 'livingRoom',\n",
       " 'drawingRoom',\n",
       " 'kitchen',\n",
       " 'bathRoom',\n",
       " 'floor',\n",
       " 'buildingType',\n",
       " 'constructionTime',\n",
       " 'renovationCondition',\n",
       " 'buildingStructure',\n",
       " 'ladderRatio',\n",
       " 'elevator',\n",
       " 'fiveYearsProperty',\n",
       " 'subway',\n",
       " 'district',\n",
       " 'communityAverage',\n",
       " 'Floor Number',\n",
       " 'districtName',\n",
       " 'Floor Height English']"
      ]
     },
     "execution_count": 23,
     "metadata": {},
     "output_type": "execute_result"
    }
   ],
   "source": [
    "df.columns"
   ]
  },
  {
   "cell_type": "code",
   "execution_count": 24,
   "id": "a6e74a00",
   "metadata": {},
   "outputs": [
    {
     "name": "stderr",
     "output_type": "stream",
     "text": [
      "                                                                                \r"
     ]
    },
    {
     "name": "stdout",
     "output_type": "stream",
     "text": [
      "+---+---+---+---+---+---------+---+---------+----------+-----+------+----------+-----------+-------+--------+-----+------------+----------------+-------------------+-----------------+-----------+--------+-----------------+------+--------+----------------+------------+------------+--------------------+\n",
      "| id|url|Lng|Lat|Cid|tradeTime|DOM|followers|totalPrice|price|square|livingRoom|drawingRoom|kitchen|bathRoom|floor|buildingType|constructionTime|renovationCondition|buildingStructure|ladderRatio|elevator|fiveYearsProperty|subway|district|communityAverage|Floor Number|districtName|Floor Height English|\n",
      "+---+---+---+---+---+---------+---+---------+----------+-----+------+----------+-----------+-------+--------+-----+------------+----------------+-------------------+-----------------+-----------+--------+-----------------+------+--------+----------------+------------+------------+--------------------+\n",
      "|  0|  0|  0|  0|  0|        0|  0|        0|         0|    0|     0|         0|          0|      0|       0|    0|           0|               0|                  0|                0|          0|       0|                0|     0|       0|               0|           0|           0|                 782|\n",
      "+---+---+---+---+---+---------+---+---------+----------+-----+------+----------+-----------+-------+--------+-----+------------+----------------+-------------------+-----------------+-----------+--------+-----------------+------+--------+----------------+------------+------------+--------------------+\n",
      "\n"
     ]
    },
    {
     "name": "stderr",
     "output_type": "stream",
     "text": [
      "[Stage 187:>                                                        (0 + 2) / 2]\r"
     ]
    },
    {
     "name": "stdout",
     "output_type": "stream",
     "text": [
      "+---+---+---+---+---+---------+---+---------+----------+-----+------+----------+-----------+-------+--------+-----+------------+----------------+-------------------+-----------------+-----------+--------+-----------------+------+--------+----------------+------------+------------+--------------------+\n",
      "| id|url|Lng|Lat|Cid|tradeTime|DOM|followers|totalPrice|price|square|livingRoom|drawingRoom|kitchen|bathRoom|floor|buildingType|constructionTime|renovationCondition|buildingStructure|ladderRatio|elevator|fiveYearsProperty|subway|district|communityAverage|Floor Number|districtName|Floor Height English|\n",
      "+---+---+---+---+---+---------+---+---------+----------+-----+------+----------+-----------+-------+--------+-----+------------+----------------+-------------------+-----------------+-----------+--------+-----------------+------+--------+----------------+------------+------------+--------------------+\n",
      "|  0|  0|  0|  0|  0|        0|  0|        0|         0|    0|     0|         0|          0|      0|       0|    0|           0|               0|                  0|                0|          0|       0|                0|     0|       0|               0|           0|           0|                   0|\n",
      "+---+---+---+---+---+---------+---+---------+----------+-----+------+----------+-----------+-------+--------+-----+------------+----------------+-------------------+-----------------+-----------+--------+-----------------+------+--------+----------------+------------+------------+--------------------+\n",
      "\n"
     ]
    },
    {
     "name": "stderr",
     "output_type": "stream",
     "text": [
      "\r",
      "[Stage 187:============================>                            (1 + 1) / 2]\r",
      "\r",
      "                                                                                \r"
     ]
    }
   ],
   "source": [
    "#check null values in the integrated dateframe\n",
    "null_counts = df.select([sum(col(c).isNull().cast(\"int\")).alias(c) for c in df.columns])\n",
    "null_counts.show()\n",
    "\n",
    "#There appears to be null values in Floor Height English\n",
    "df = df.dropna()\n",
    "null_counts = df.select([sum(col(c).isNull().cast(\"int\")).alias(c) for c in df.columns])\n",
    "null_counts.show()"
   ]
  },
  {
   "cell_type": "markdown",
   "id": "1a284d9d",
   "metadata": {},
   "source": [
    "## 3.3 Coding Inconsistencies"
   ]
  },
  {
   "cell_type": "code",
   "execution_count": 25,
   "id": "aa8103cb",
   "metadata": {},
   "outputs": [
    {
     "name": "stderr",
     "output_type": "stream",
     "text": [
      "                                                                                \r"
     ]
    },
    {
     "data": {
      "image/png": "[encoded data removed]",
      "text/plain": [
       "<Figure size 432x288 with 1 Axes>"
      ]
     },
     "metadata": {
      "needs_background": "light"
     },
     "output_type": "display_data"
    }
   ],
   "source": [
    "# check coding inconsistency in Floor Height English\n",
    "pdf = df.toPandas()\n",
    "\n",
    "plt.hist(pdf['Floor Height English'], bins=30, edgecolor='black')\n",
    "\n",
    "# Customize the plot\n",
    "plt.title('Floor Height Coding')\n",
    "plt.xlabel('Floor Height')\n",
    "plt.ylabel('Count')\n",
    "plt.xticks(rotation=45)\n",
    "plt.show()"
   ]
  },
  {
   "cell_type": "code",
   "execution_count": 26,
   "id": "6a1f64b3",
   "metadata": {},
   "outputs": [],
   "source": [
    "from pyspark.sql import functions as F\n",
    "def makeConsistent(spark_df, column, searchWord, changeTo):\n",
    "    return spark_df.withColumn(column, \n",
    "                               F.when(F.col(column) == searchWord, changeTo).otherwise(F.col(column)))\n",
    "\n"
   ]
  },
  {
   "cell_type": "code",
   "execution_count": 27,
   "id": "daabda67",
   "metadata": {},
   "outputs": [],
   "source": [
    "df = makeConsistent(df, \"Floor Height English\", \"Miffle\", \"Middle\")\n",
    "df = makeConsistent(df, \"Floor Height English\", \"Mihhle\", \"Middle\")\n",
    "df = makeConsistent(df, \"Floor Height English\", \"Missle\", \"Middle\")\n",
    "df = makeConsistent(df, \"Floor Height English\", \"Mittle\", \"Middle\")\n",
    "df = makeConsistent(df, \"Floor Height English\", \"Mixxle\", \"Middle\")\n",
    "df = makeConsistent(df, \"Floor Height English\", \"Miyyle\", \"Middle\")\n",
    "\n"
   ]
  },
  {
   "cell_type": "code",
   "execution_count": 28,
   "id": "42fdc9f3",
   "metadata": {},
   "outputs": [
    {
     "name": "stderr",
     "output_type": "stream",
     "text": [
      "                                                                                \r"
     ]
    },
    {
     "data": {
      "image/png": "[encoded data removed]",
      "text/plain": [
       "<Figure size 432x288 with 1 Axes>"
      ]
     },
     "metadata": {
      "needs_background": "light"
     },
     "output_type": "display_data"
    }
   ],
   "source": [
    "# check coding inconsistency in Floor Height English\n",
    "pdf = df.toPandas()\n",
    "\n",
    "plt.hist(pdf['Floor Height English'], bins=30, edgecolor='black')\n",
    "\n",
    "# Customize the plot\n",
    "plt.title('Floor Height Coding')\n",
    "plt.xlabel('Floor Height')\n",
    "plt.ylabel('Count')\n",
    "plt.xticks(rotation=45)\n",
    "plt.show()"
   ]
  },
  {
   "cell_type": "code",
   "execution_count": 29,
   "id": "dd30f782",
   "metadata": {},
   "outputs": [
    {
     "name": "stdout",
     "output_type": "stream",
     "text": [
      "root\n",
      " |-- ID: string (nullable = true)\n",
      " |-- URL: string (nullable = true)\n",
      " |-- longitude: double (nullable = true)\n",
      " |-- latitude: double (nullable = true)\n",
      " |-- communityID: long (nullable = true)\n",
      " |-- tradeTime: date (nullable = true)\n",
      " |-- daysOnMarket: string (nullable = true)\n",
      " |-- followers: integer (nullable = true)\n",
      " |-- totalPrice: double (nullable = true)\n",
      " |-- averagePricePerSquare: integer (nullable = true)\n",
      " |-- totalSquare: double (nullable = true)\n",
      " |-- bedroom: string (nullable = true)\n",
      " |-- livingRoom: string (nullable = true)\n",
      " |-- kitchen: integer (nullable = true)\n",
      " |-- bathRoom: string (nullable = true)\n",
      " |-- floor: string (nullable = true)\n",
      " |-- buildingType: string (nullable = true)\n",
      " |-- constructionTime: string (nullable = true)\n",
      " |-- renovationCondition: integer (nullable = true)\n",
      " |-- buildingStructure: integer (nullable = true)\n",
      " |-- ladderRatio: double (nullable = true)\n",
      " |-- elevatorAccess: double (nullable = true)\n",
      " |-- fiveYearsProperty: double (nullable = true)\n",
      " |-- subwayAccess: double (nullable = true)\n",
      " |-- districtNumber: integer (nullable = true)\n",
      " |-- communityAverage: string (nullable = true)\n",
      " |-- Floor Number: string (nullable = true)\n",
      " |-- districtName: string (nullable = false)\n",
      " |-- Floor Height English: string (nullable = true)\n",
      "\n"
     ]
    }
   ],
   "source": [
    "#rename attributes\n",
    "\n",
    "df = df.withColumnRenamed('url', 'URL') \\\n",
    "       .withColumnRenamed('id', 'ID') \\\n",
    "       .withColumnRenamed('Lng', 'longitude') \\\n",
    "       .withColumnRenamed('Lat', 'latitude') \\\n",
    "       .withColumnRenamed('Cid', 'communityID') \\\n",
    "       .withColumnRenamed('DOM', 'daysOnMarket') \\\n",
    "       .withColumnRenamed('price', 'averagePricePerSquare') \\\n",
    "       .withColumnRenamed('square', 'totalSquare') \\\n",
    "       .withColumnRenamed('livingRoom', 'bedroom') \\\n",
    "       .withColumnRenamed('drawingRoom', 'livingRoom') \\\n",
    "       .withColumnRenamed('elevator', 'elevatorAccess') \\\n",
    "       .withColumnRenamed('subway', 'subwayAccess') \\\n",
    "       .withColumnRenamed('district', 'districtNumber')\n",
    "     \n",
    "\n",
    "df.printSchema()"
   ]
  },
  {
   "cell_type": "code",
   "execution_count": 30,
   "id": "5ad3d4ec",
   "metadata": {},
   "outputs": [
    {
     "name": "stdout",
     "output_type": "stream",
     "text": [
      "root\n",
      " |-- ID: string (nullable = true)\n",
      " |-- URL: string (nullable = true)\n",
      " |-- longitude: double (nullable = true)\n",
      " |-- latitude: double (nullable = true)\n",
      " |-- communityID: long (nullable = true)\n",
      " |-- tradeTime: date (nullable = true)\n",
      " |-- daysOnMarket: string (nullable = true)\n",
      " |-- followers: integer (nullable = true)\n",
      " |-- totalPrice: double (nullable = true)\n",
      " |-- averagePricePerSquare: integer (nullable = true)\n",
      " |-- totalSquare: double (nullable = true)\n",
      " |-- bedroom: string (nullable = true)\n",
      " |-- livingRoom: string (nullable = true)\n",
      " |-- kitchen: integer (nullable = true)\n",
      " |-- bathRoom: string (nullable = true)\n",
      " |-- floor: string (nullable = true)\n",
      " |-- buildingType: string (nullable = true)\n",
      " |-- constructionTime: string (nullable = true)\n",
      " |-- renovationCondition: integer (nullable = true)\n",
      " |-- buildingStructure: integer (nullable = true)\n",
      " |-- ladderRatio: double (nullable = true)\n",
      " |-- elevatorAccess: double (nullable = true)\n",
      " |-- fiveYearsProperty: double (nullable = true)\n",
      " |-- subwayAccess: double (nullable = true)\n",
      " |-- districtNumber: integer (nullable = true)\n",
      " |-- communityAverage: string (nullable = true)\n",
      " |-- floorNumber: string (nullable = true)\n",
      " |-- districtName: string (nullable = false)\n",
      " |-- floorHeight: string (nullable = true)\n",
      "\n"
     ]
    }
   ],
   "source": [
    "df = df.withColumnRenamed('Floor Number', 'floorNumber')\n",
    "df = df.withColumnRenamed('Floor Height English', 'floorHeight')\n",
    "df.printSchema()"
   ]
  },
  {
   "cell_type": "markdown",
   "id": "c8568866",
   "metadata": {},
   "source": [
    "## 3.5 Formatting Data"
   ]
  },
  {
   "cell_type": "code",
   "execution_count": 31,
   "id": "87acf1d8",
   "metadata": {},
   "outputs": [],
   "source": [
    "#make units consistent\n",
    "#multiply the totalPrice column by 10000\n",
    "df = df.withColumn(\"totalPrice\", col(\"totalPrice\") * 10000)\n",
    "\n"
   ]
  },
  {
   "cell_type": "code",
   "execution_count": 32,
   "id": "875f7542",
   "metadata": {},
   "outputs": [
    {
     "name": "stderr",
     "output_type": "stream",
     "text": [
      "\r",
      "[Stage 194:============================>                            (1 + 1) / 2]\r",
      "\r",
      "                                                                                \r"
     ]
    },
    {
     "name": "stdout",
     "output_type": "stream",
     "text": [
      "+----------+---------------------+\n",
      "|totalPrice|averagePricePerSquare|\n",
      "+----------+---------------------+\n",
      "| 2120000.0|                32981|\n",
      "| 1746000.0|                33577|\n",
      "| 2100000.0|                40385|\n",
      "| 3545000.0|                50672|\n",
      "| 6550000.0|                43149|\n",
      "| 4060000.0|                63577|\n",
      "| 2250000.0|                40910|\n",
      "| 3550000.0|                40909|\n",
      "| 1995000.0|                22167|\n",
      "| 2980000.0|                35059|\n",
      "+----------+---------------------+\n",
      "only showing top 10 rows\n",
      "\n"
     ]
    }
   ],
   "source": [
    "# Show the result\n",
    "df.select(\"totalPrice\", 'averagePricePerSquare').show(10)"
   ]
  },
  {
   "cell_type": "code",
   "execution_count": 33,
   "id": "06ca99b0",
   "metadata": {},
   "outputs": [],
   "source": [
    "#create new feature tooManyDays\n",
    "\n",
    "# Create the 'TooManyDays' column based on the condition\n",
    "df = df.withColumn(\"daysOnMarket\", col(\"daysOnMarket\").cast(\"int\"))\n",
    "\n",
    "df = df.withColumn(\"tooManyDays\", when(col(\"daysOnMarket\") > 20, 1).otherwise(0))\n",
    "\n"
   ]
  },
  {
   "cell_type": "code",
   "execution_count": 34,
   "id": "58ff62d7",
   "metadata": {},
   "outputs": [
    {
     "name": "stderr",
     "output_type": "stream",
     "text": [
      "\r",
      "[Stage 196:============================>                            (1 + 1) / 2]\r",
      "\r",
      "                                                                                \r"
     ]
    },
    {
     "name": "stdout",
     "output_type": "stream",
     "text": [
      "+------------+-----------+\n",
      "|daysOnMarket|tooManyDays|\n",
      "+------------+-----------+\n",
      "|          20|          0|\n",
      "|          20|          0|\n",
      "|          20|          0|\n",
      "|          18|          0|\n",
      "|          19|          0|\n",
      "|          20|          0|\n",
      "|          18|          0|\n",
      "|          18|          0|\n",
      "|          17|          0|\n",
      "|          17|          0|\n",
      "|          19|          0|\n",
      "|          17|          0|\n",
      "|          17|          0|\n",
      "|          20|          0|\n",
      "|          19|          0|\n",
      "|          18|          0|\n",
      "|          19|          0|\n",
      "|          18|          0|\n",
      "|          20|          0|\n",
      "|          15|          0|\n",
      "+------------+-----------+\n",
      "only showing top 20 rows\n",
      "\n"
     ]
    }
   ],
   "source": [
    "# Show the result\n",
    "df.select(\"daysOnMarket\", \"tooManyDays\").filter(col(\"daysOnMarket\") <= 20).show(20)"
   ]
  },
  {
   "cell_type": "code",
   "execution_count": 35,
   "id": "5ace276b",
   "metadata": {},
   "outputs": [
    {
     "name": "stdout",
     "output_type": "stream",
     "text": [
      "+------------+-----------+\n",
      "|daysOnMarket|tooManyDays|\n",
      "+------------+-----------+\n",
      "|         790|          1|\n",
      "|         747|          1|\n",
      "|         715|          1|\n",
      "|         603|          1|\n",
      "|         508|          1|\n",
      "|         451|          1|\n",
      "|         469|          1|\n",
      "|         443|          1|\n",
      "|         446|          1|\n",
      "|         442|          1|\n",
      "|         503|          1|\n",
      "|         409|          1|\n",
      "|         400|          1|\n",
      "|         405|          1|\n",
      "|         404|          1|\n",
      "|         408|          1|\n",
      "|         368|          1|\n",
      "|         389|          1|\n",
      "|         453|          1|\n",
      "|         352|          1|\n",
      "+------------+-----------+\n",
      "only showing top 20 rows\n",
      "\n"
     ]
    }
   ],
   "source": [
    "df.select(\"daysOnMarket\", \"tooManyDays\").filter(col(\"daysOnMarket\") > 20).show(20)"
   ]
  },
  {
   "cell_type": "code",
   "execution_count": 36,
   "id": "92ca2764",
   "metadata": {},
   "outputs": [
    {
     "name": "stdout",
     "output_type": "stream",
     "text": [
      "root\n",
      " |-- ID: string (nullable = true)\n",
      " |-- URL: string (nullable = true)\n",
      " |-- longitude: double (nullable = true)\n",
      " |-- latitude: double (nullable = true)\n",
      " |-- communityID: long (nullable = true)\n",
      " |-- tradeTime: date (nullable = true)\n",
      " |-- daysOnMarket: integer (nullable = true)\n",
      " |-- followers: integer (nullable = true)\n",
      " |-- totalPrice: double (nullable = true)\n",
      " |-- averagePricePerSquare: integer (nullable = true)\n",
      " |-- totalSquare: double (nullable = true)\n",
      " |-- bedroom: string (nullable = true)\n",
      " |-- livingRoom: string (nullable = true)\n",
      " |-- kitchen: integer (nullable = true)\n",
      " |-- bathRoom: string (nullable = true)\n",
      " |-- floor: string (nullable = true)\n",
      " |-- buildingType: string (nullable = true)\n",
      " |-- constructionTime: string (nullable = true)\n",
      " |-- renovationCondition: integer (nullable = true)\n",
      " |-- buildingStructure: integer (nullable = true)\n",
      " |-- ladderRatio: double (nullable = true)\n",
      " |-- elevatorAccess: double (nullable = true)\n",
      " |-- fiveYearsProperty: double (nullable = true)\n",
      " |-- subwayAccess: double (nullable = true)\n",
      " |-- districtNumber: integer (nullable = true)\n",
      " |-- communityAverage: string (nullable = true)\n",
      " |-- floorNumber: string (nullable = true)\n",
      " |-- districtName: string (nullable = false)\n",
      " |-- floorHeight: string (nullable = true)\n",
      " |-- tooManyDays: integer (nullable = false)\n",
      "\n"
     ]
    }
   ],
   "source": [
    "#recode features to numerical data types\n",
    "df.printSchema()"
   ]
  },
  {
   "cell_type": "code",
   "execution_count": 37,
   "id": "348f47a0",
   "metadata": {},
   "outputs": [
    {
     "name": "stdout",
     "output_type": "stream",
     "text": [
      "+----------+-----------+-------+----------+--------+------------+----------------+-----------------+------------+----------------+-----------+\n",
      "|totalPrice|totalSquare|bedroom|livingRoom|bathRoom|buildingType|constructionTime|fiveYearsProperty|subwayAccess|communityAverage|floorNumber|\n",
      "+----------+-----------+-------+----------+--------+------------+----------------+-----------------+------------+----------------+-----------+\n",
      "|   2120000|         64|      1|         0|       1|           1|            2009|                0|           1|           70141|         19|\n",
      "|   1746000|         52|      1|         0|       1|           1|            2009|                0|           1|           70141|         19|\n",
      "|   2100000|         52|      1|         0|       1|           1|            2009|                0|           1|           70141|         19|\n",
      "|   3545000|         69|      3|         1|       2|           3|            2010|                0|           1|           45854|         11|\n",
      "|   6550000|        151|      2|         1|       1|           1|            1998|                1|           1|           75591|         22|\n",
      "|   4060000|         63|      1|         1|       1|           3|            2007|                0|           1|           91192|         16|\n",
      "|   2250000|         55|      1|         0|       1|           1|            2005|                1|           0|           60134|          9|\n",
      "|   3550000|         86|      2|         2|       1|           1|            2011|                0|           1|           56336|         33|\n",
      "|   1995000|         90|      2|         1|       1|           4|            2010|                0|           0|           35310|         15|\n",
      "|   2980000|         85|      1|         1|       1|           3|            2009|                0|           1|           40470|         22|\n",
      "+----------+-----------+-------+----------+--------+------------+----------------+-----------------+------------+----------------+-----------+\n",
      "only showing top 10 rows\n",
      "\n",
      "root\n",
      " |-- ID: string (nullable = true)\n",
      " |-- URL: string (nullable = true)\n",
      " |-- longitude: double (nullable = true)\n",
      " |-- latitude: double (nullable = true)\n",
      " |-- communityID: long (nullable = true)\n",
      " |-- tradeTime: date (nullable = true)\n",
      " |-- daysOnMarket: integer (nullable = true)\n",
      " |-- followers: integer (nullable = true)\n",
      " |-- totalPrice: integer (nullable = true)\n",
      " |-- averagePricePerSquare: integer (nullable = true)\n",
      " |-- totalSquare: integer (nullable = true)\n",
      " |-- bedroom: integer (nullable = true)\n",
      " |-- livingRoom: integer (nullable = true)\n",
      " |-- kitchen: integer (nullable = true)\n",
      " |-- bathRoom: integer (nullable = true)\n",
      " |-- floor: string (nullable = true)\n",
      " |-- buildingType: integer (nullable = true)\n",
      " |-- constructionTime: integer (nullable = true)\n",
      " |-- renovationCondition: integer (nullable = true)\n",
      " |-- buildingStructure: integer (nullable = true)\n",
      " |-- ladderRatio: double (nullable = true)\n",
      " |-- elevatorAccess: double (nullable = true)\n",
      " |-- fiveYearsProperty: integer (nullable = true)\n",
      " |-- subwayAccess: integer (nullable = true)\n",
      " |-- districtNumber: integer (nullable = true)\n",
      " |-- communityAverage: integer (nullable = true)\n",
      " |-- floorNumber: integer (nullable = true)\n",
      " |-- districtName: string (nullable = false)\n",
      " |-- floorHeight: string (nullable = true)\n",
      " |-- tooManyDays: integer (nullable = false)\n",
      "\n"
     ]
    }
   ],
   "source": [
    "# List of columns to be cast to integer\n",
    "columns_to_cast = ['totalPrice', 'totalSquare', 'bedroom', 'livingRoom', 'bathRoom', \n",
    "                   'buildingType', 'constructionTime', 'fiveYearsProperty', 'subwayAccess', 'communityAverage', 'floorNumber']\n",
    "\n",
    "# Iterate over the columns and cast each one to integer\n",
    "for column in columns_to_cast:\n",
    "    df = df.withColumn(column, col(column).cast('int'))\n",
    "\n",
    "# Show the result to verify the changes\n",
    "df.select(columns_to_cast).show(10)\n",
    "\n",
    "# Print schema to verify the DataFrame structure\n",
    "df.printSchema()"
   ]
  },
  {
   "cell_type": "markdown",
   "id": "6fa69fc9",
   "metadata": {},
   "source": [
    "# 4 Data Transformation"
   ]
  },
  {
   "cell_type": "markdown",
   "id": "e59bf68b",
   "metadata": {},
   "source": [
    "## 4.1 Data Reduction and Boosting"
   ]
  },
  {
   "cell_type": "code",
   "execution_count": 38,
   "id": "12cfb2ca",
   "metadata": {},
   "outputs": [
    {
     "name": "stdout",
     "output_type": "stream",
     "text": [
      "root\n",
      " |-- daysOnMarket: integer (nullable = true)\n",
      " |-- followers: integer (nullable = true)\n",
      " |-- totalPrice: integer (nullable = true)\n",
      " |-- averagePricePerSquare: integer (nullable = true)\n",
      " |-- totalSquare: integer (nullable = true)\n",
      " |-- bedroom: integer (nullable = true)\n",
      " |-- livingRoom: integer (nullable = true)\n",
      " |-- kitchen: integer (nullable = true)\n",
      " |-- bathRoom: integer (nullable = true)\n",
      " |-- buildingType: integer (nullable = true)\n",
      " |-- constructionTime: integer (nullable = true)\n",
      " |-- renovationCondition: integer (nullable = true)\n",
      " |-- buildingStructure: integer (nullable = true)\n",
      " |-- ladderRatio: double (nullable = true)\n",
      " |-- elevatorAccess: double (nullable = true)\n",
      " |-- fiveYearsProperty: integer (nullable = true)\n",
      " |-- subwayAccess: integer (nullable = true)\n",
      " |-- districtNumber: integer (nullable = true)\n",
      " |-- communityAverage: integer (nullable = true)\n",
      " |-- floorNumber: integer (nullable = true)\n",
      " |-- tooManyDays: integer (nullable = false)\n",
      "\n"
     ]
    }
   ],
   "source": [
    "#drop irrelevant attributes\n",
    "# List of columns to drop\n",
    "columns_to_drop = ['URL', 'ID', 'longitude', 'latitude', 'communityID', 'tradeTime', 'floor', 'districtName', 'floorHeight']\n",
    "\n",
    "# Drop the specified columns\n",
    "df = df.drop(*columns_to_drop)\n",
    "\n",
    "df.printSchema()"
   ]
  },
  {
   "cell_type": "code",
   "execution_count": 42,
   "id": "f948ab02",
   "metadata": {},
   "outputs": [
    {
     "name": "stderr",
     "output_type": "stream",
     "text": [
      "                                                                                \r"
     ]
    },
    {
     "name": "stdout",
     "output_type": "stream",
     "text": [
      "+-----------+------+\n",
      "|tooManyDays| count|\n",
      "+-----------+------+\n",
      "|          1| 18701|\n",
      "|          0|177646|\n",
      "+-----------+------+\n",
      "\n"
     ]
    },
    {
     "name": "stderr",
     "output_type": "stream",
     "text": [
      "                                                                                \r"
     ]
    },
    {
     "name": "stdout",
     "output_type": "stream",
     "text": [
      "   tooManyDays   count\n",
      "0            1   18701\n",
      "1            0  177646\n"
     ]
    },
    {
     "data": {
      "image/png": "[encoded data removed]",
      "text/plain": [
       "<Figure size 576x576 with 1 Axes>"
      ]
     },
     "metadata": {},
     "output_type": "display_data"
    }
   ],
   "source": [
    "#pie chart of current tooManyDays\n",
    "# calculate how many 1s and 0s\n",
    "tooManyDays_counts = df.groupBy(\"tooManyDays\").agg(F.count(\"tooManyDays\").alias(\"count\"))\n",
    "\n",
    "\n",
    "tooManyDays_counts.show()\n",
    "\n",
    "# convert to Pandas DataFrame\n",
    "tooManyDays_counts_pd = tooManyDays_counts.toPandas()\n",
    "\n",
    "\n",
    "print(tooManyDays_counts_pd)\n",
    "\n",
    "\n",
    "plt.figure(figsize=(8, 8))\n",
    "plt.pie(tooManyDays_counts_pd['count'], labels=tooManyDays_counts_pd['tooManyDays'], autopct='%1.1f%%', startangle=140)\n",
    "\n",
    "# Customize the plot\n",
    "plt.title('Distribution of tooManyDays')\n",
    "plt.show()\n"
   ]
  },
  {
   "cell_type": "code",
   "execution_count": 44,
   "id": "50c87583",
   "metadata": {},
   "outputs": [
    {
     "name": "stderr",
     "output_type": "stream",
     "text": [
      "                                                                                \r"
     ]
    },
    {
     "name": "stdout",
     "output_type": "stream",
     "text": [
      "root\n",
      " |-- daysOnMarket: integer (nullable = true)\n",
      " |-- followers: integer (nullable = true)\n",
      " |-- totalPrice: integer (nullable = true)\n",
      " |-- averagePricePerSquare: integer (nullable = true)\n",
      " |-- totalSquare: integer (nullable = true)\n",
      " |-- bedroom: integer (nullable = true)\n",
      " |-- livingRoom: integer (nullable = true)\n",
      " |-- kitchen: integer (nullable = true)\n",
      " |-- bathRoom: integer (nullable = true)\n",
      " |-- buildingType: integer (nullable = true)\n",
      " |-- constructionTime: integer (nullable = true)\n",
      " |-- renovationCondition: integer (nullable = true)\n",
      " |-- buildingStructure: integer (nullable = true)\n",
      " |-- ladderRatio: double (nullable = true)\n",
      " |-- elevatorAccess: double (nullable = true)\n",
      " |-- fiveYearsProperty: integer (nullable = true)\n",
      " |-- subwayAccess: integer (nullable = true)\n",
      " |-- districtNumber: integer (nullable = true)\n",
      " |-- communityAverage: integer (nullable = true)\n",
      " |-- floorNumber: integer (nullable = true)\n",
      " |-- tooManyDays: integer (nullable = false)\n",
      "\n"
     ]
    }
   ],
   "source": [
    "#boost the lower category\n",
    "\n",
    "from pyspark.sql.functions import col\n",
    "\n",
    "# Split the DataFrame into high and low classes\n",
    "df_high = df.filter(col(\"tooManyDays\") == 0)\n",
    "df_low = df.filter(col(\"tooManyDays\") == 1)\n",
    "\n",
    "# Calculate the difference in counts\n",
    "count_high = df_high.count()\n",
    "count_low = df_low.count()\n",
    "difference = count_high - count_low\n",
    "\n",
    "# Sample with replacement from the minority class to match the majority class\n",
    "df_low_boosted = df_low.sample(withReplacement=True, fraction=(difference / count_low) + 1)\n",
    "\n",
    "# Combine the boosted minority class with the majority class\n",
    "df_boosted = df_high.union(df_low_boosted)\n",
    "\n",
    "# Show the combined DataFrame schema\n",
    "df_boosted.printSchema()"
   ]
  },
  {
   "cell_type": "code",
   "execution_count": 46,
   "id": "8330c8f1",
   "metadata": {},
   "outputs": [
    {
     "name": "stderr",
     "output_type": "stream",
     "text": [
      "                                                                                \r"
     ]
    },
    {
     "data": {
      "image/png": "[encoded data removed]",
      "text/plain": [
       "<Figure size 576x576 with 1 Axes>"
      ]
     },
     "metadata": {},
     "output_type": "display_data"
    }
   ],
   "source": [
    "too_many_days_boosted_counts = df_boosted.groupBy(\"tooManyDays\").agg(F.count(\"tooManyDays\").alias(\"count\"))\n",
    "\n",
    "# Convert to Pandas DataFrame\n",
    "too_many_days_boosted_counts_pd = too_many_days_boosted_counts.toPandas()\n",
    "\n",
    "# Plot the pie chart after boosting\n",
    "plt.figure(figsize=(8, 8))\n",
    "plt.pie(too_many_days_boosted_counts_pd['count'], labels=too_many_days_boosted_counts_pd['tooManyDays'], autopct='%1.1f%%', startangle=140)\n",
    "plt.title('Distribution of tooManyDays After Boosting')\n",
    "plt.show()"
   ]
  },
  {
   "cell_type": "markdown",
   "id": "118fba81",
   "metadata": {},
   "source": [
    "## 4.2 Data Projection"
   ]
  },
  {
   "cell_type": "code",
   "execution_count": 60,
   "id": "fd494056",
   "metadata": {},
   "outputs": [
    {
     "name": "stderr",
     "output_type": "stream",
     "text": [
      "                                                                                \r"
     ]
    },
    {
     "name": "stdout",
     "output_type": "stream",
     "text": [
      "0.16014185261568534\n"
     ]
    },
    {
     "name": "stderr",
     "output_type": "stream",
     "text": [
      "\r",
      "[Stage 255:>                                                        (0 + 2) / 2]\r"
     ]
    },
    {
     "name": "stdout",
     "output_type": "stream",
     "text": [
      "0.27444058635066904\n"
     ]
    },
    {
     "name": "stderr",
     "output_type": "stream",
     "text": [
      "\r",
      "                                                                                \r"
     ]
    }
   ],
   "source": [
    "def check_skewness(df, column_name):\n",
    "    \n",
    "    skewness_value = df.select(F.skewness(column_name)).collect()[0][0]\n",
    "    return skewness_value\n",
    "\n",
    "print(check_skewness(df, 'followers'))\n",
    "print(check_skewness(df, 'communityAverage'))\n"
   ]
  },
  {
   "cell_type": "code",
   "execution_count": 50,
   "id": "862f7bc2",
   "metadata": {},
   "outputs": [
    {
     "name": "stderr",
     "output_type": "stream",
     "text": [
      "                                                                                \r"
     ]
    },
    {
     "data": {
      "image/png": "[encoded data removed]",
      "text/plain": [
       "<Figure size 720x432 with 1 Axes>"
      ]
     },
     "metadata": {
      "needs_background": "light"
     },
     "output_type": "display_data"
    }
   ],
   "source": [
    "# Plot the distribution of the 'followers' column\n",
    "pdf = df.toPandas()\n",
    "plt.figure(figsize=(10, 6))\n",
    "plt.hist(pdf['followers'], bins=30, edgecolor='black')\n",
    "\n",
    "# Customize the plot\n",
    "plt.title('Distribution of Followers')\n",
    "plt.xlabel('Number of Followers')\n",
    "plt.ylabel('Frequency')\n",
    "plt.grid(True)\n",
    "plt.show()"
   ]
  },
  {
   "cell_type": "code",
   "execution_count": 51,
   "id": "40670491",
   "metadata": {},
   "outputs": [
    {
     "data": {
      "image/png": "[encoded data removed]",
      "text/plain": [
       "<Figure size 720x432 with 1 Axes>"
      ]
     },
     "metadata": {
      "needs_background": "light"
     },
     "output_type": "display_data"
    }
   ],
   "source": [
    "plt.figure(figsize=(10, 6))\n",
    "plt.hist(pdf['ladderRatio'], bins=30, edgecolor='black')\n",
    "\n",
    "# Customize the plot\n",
    "plt.title('Distribution of ladderRatio')\n",
    "plt.xlabel('Ratio')\n",
    "plt.ylabel('Frequency')\n",
    "plt.grid(True)\n",
    "plt.show()\n",
    "\n"
   ]
  },
  {
   "cell_type": "code",
   "execution_count": 53,
   "id": "6f0d4222",
   "metadata": {},
   "outputs": [
    {
     "data": {
      "image/png": "[encoded data removed]",
      "text/plain": [
       "<Figure size 720x432 with 1 Axes>"
      ]
     },
     "metadata": {
      "needs_background": "light"
     },
     "output_type": "display_data"
    }
   ],
   "source": [
    "plt.figure(figsize=(10, 6))\n",
    "plt.hist(pdf['communityAverage'], bins=30, edgecolor='black')\n",
    "\n",
    "# Customize the plot\n",
    "plt.title('Distribution of communityAverage')\n",
    "plt.xlabel('Price')\n",
    "plt.ylabel('Frequency')\n",
    "plt.grid(True)\n",
    "plt.show()"
   ]
  },
  {
   "cell_type": "code",
   "execution_count": 54,
   "id": "78ef6cfd",
   "metadata": {},
   "outputs": [],
   "source": [
    "#transform these features to approximate normal distrbution\n",
    "#apply log\n",
    "\n",
    "df = df.withColumn(\"followers\", F.log1p(col(\"followers\")))\n",
    "\n"
   ]
  },
  {
   "cell_type": "code",
   "execution_count": 55,
   "id": "c7afc688",
   "metadata": {},
   "outputs": [
    {
     "name": "stderr",
     "output_type": "stream",
     "text": [
      "                                                                                \r"
     ]
    },
    {
     "data": {
      "image/png": "[encoded data removed]",
      "text/plain": [
       "<Figure size 720x432 with 1 Axes>"
      ]
     },
     "metadata": {
      "needs_background": "light"
     },
     "output_type": "display_data"
    }
   ],
   "source": [
    "pdf = df.toPandas()\n",
    "plt.figure(figsize=(10, 6))\n",
    "plt.hist(pdf['followers'], bins=30, edgecolor='black')\n",
    "\n",
    "# Customize the plot\n",
    "plt.title('Distribution of Followers')\n",
    "plt.xlabel('Number of Followers')\n",
    "plt.ylabel('Frequency')\n",
    "plt.grid(True)\n",
    "plt.show()"
   ]
  },
  {
   "cell_type": "code",
   "execution_count": 57,
   "id": "ea314e5d",
   "metadata": {},
   "outputs": [
    {
     "name": "stderr",
     "output_type": "stream",
     "text": [
      "                                                                                \r"
     ]
    },
    {
     "data": {
      "image/png": "[encoded data removed]",
      "text/plain": [
       "<Figure size 720x432 with 1 Axes>"
      ]
     },
     "metadata": {
      "needs_background": "light"
     },
     "output_type": "display_data"
    }
   ],
   "source": [
    "\n",
    "df = df.withColumn(\"communityAverage\", F.log1p(col(\"communityAverage\")))\n",
    "\n",
    "pdf = df.toPandas()\n",
    "plt.figure(figsize=(10, 6))\n",
    "plt.hist(pdf['communityAverage'], bins=30, edgecolor='black')\n",
    "\n",
    "# Customize the plot\n",
    "plt.title('Distribution of communityAverage')\n",
    "plt.xlabel('Price')\n",
    "plt.ylabel('Frequency')\n",
    "plt.grid(True)\n",
    "plt.show()"
   ]
  },
  {
   "cell_type": "code",
   "execution_count": null,
   "id": "e40143de",
   "metadata": {},
   "outputs": [],
   "source": [
    "#skewness after transformation\n",
    "print(check_skewness(df, 'followers'))\n",
    "print(check_skewness(df, 'communityAverage'))\n"
   ]
  }
 ],
 "metadata": {
  "kernelspec": {
   "display_name": "Python 3 (ipykernel)",
   "language": "python",
   "name": "python3"
  },
  "language_info": {
   "codemirror_mode": {
    "name": "ipython",
    "version": 3
   },
   "file_extension": ".py",
   "mimetype": "text/x-python",
   "name": "python",
   "nbconvert_exporter": "python",
   "pygments_lexer": "ipython3",
   "version": "3.10.12"
  }
 },
 "nbformat": 4,
 "nbformat_minor": 5
}
