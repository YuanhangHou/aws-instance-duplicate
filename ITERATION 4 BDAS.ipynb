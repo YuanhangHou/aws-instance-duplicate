{
 "cells": [
  {
   "cell_type": "code",
   "execution_count": null,
   "id": "f395b159",
   "metadata": {},
   "outputs": [],
   "source": [
    "#This file documents the final iteration of the housing project"
   ]
  },
  {
   "cell_type": "markdown",
   "id": "7188aa52",
   "metadata": {},
   "source": [
    "# 2. Data Preparation"
   ]
  },
  {
   "cell_type": "markdown",
   "id": "a8a17d38",
   "metadata": {},
   "source": [
    "## 2.1 Data Collection"
   ]
  },
  {
   "cell_type": "markdown",
   "id": "5e228f6d",
   "metadata": {},
   "source": [
    "## 2.2 Data Quality"
   ]
  }
 ],
 "metadata": {
  "kernelspec": {
   "display_name": "Python 3 (ipykernel)",
   "language": "python",
   "name": "python3"
  },
  "language_info": {
   "codemirror_mode": {
    "name": "ipython",
    "version": 3
   },
   "file_extension": ".py",
   "mimetype": "text/x-python",
   "name": "python",
   "nbconvert_exporter": "python",
   "pygments_lexer": "ipython3",
   "version": "3.10.12"
  }
 },
 "nbformat": 4,
 "nbformat_minor": 5
}
